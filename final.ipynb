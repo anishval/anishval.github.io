{
 "cells": [
  {
   "attachments": {},
   "cell_type": "markdown",
   "id": "df9f1679",
   "metadata": {},
   "source": [
    "America's Top Sport: NFL Breakdown\n",
    "\n",
    "Anish Vallabhaneni"
   ]
  },
  {
   "attachments": {},
   "cell_type": "markdown",
   "id": "8c26ed54",
   "metadata": {
    "slideshow": {
     "slide_type": "fragment"
    }
   },
   "source": [
    "INTRODUCTION"
   ]
  },
  {
   "attachments": {},
   "cell_type": "markdown",
   "id": "725b4894",
   "metadata": {},
   "source": [
    "In modern society, two of the most popular activities for our generation are watching sports and gambling. Of all the sports in America specifically, the one that constantly gathers the most viewers is football. The NFL is a multi billion dollar industry and is one that also ends up being the most bet on sport in the United States as well. These bets come from a place of knowledge of the game, but with a better model they can be much more accurately predicted.\n",
    "\n",
    "To create a model to predict the results of NFL games, I needed to use a website with plenty of data regarding the NFL. The company which I got this data from is Pro Football Focus. I interned at Pro Football Focus or PFF last summer and used their resources to get plenty of advanced data on the NFL. Not only do they have raw stats available, but they also present access to advanced statistics which can help make much more accurate predictions as well.\n",
    "\n",
    "From PFF, I gathered the data by examining 6 CSV files, 3 for offense and 3 for defense. From there I went and tidied up the data by removing any unnecessary columns that would not be beneficial in getting stats to predict scores. The next step was to visualize the gathered data and choosing specific stats to let us understand what information we should feed to our machine learning model.\n",
    "\n",
    "The final step in the project was to create the actual machine learning model that would allow me to predict these scores. By gathering stats from previous weeks, our machine learning model is able to predict scores for a certain week. The model will be taking offensive and defensive stats from both the home and away team and using that information to create score predictions."
   ]
  },
  {
   "attachments": {},
   "cell_type": "markdown",
   "id": "f897e166",
   "metadata": {},
   "source": [
    "IMPORTS"
   ]
  },
  {
   "cell_type": "code",
   "execution_count": null,
   "id": "78ebc760-e430-471f-a59c-81919c1f2fd1",
   "metadata": {},
   "outputs": [],
   "source": [
    "import pandas as pd\n",
    "import numpy as np\n",
    "import matplotlib.pyplot as plt\n",
    "import statsmodels.api as sm\n",
    "import statsmodels.formula.api as smf\n",
    "import scipy.stats as stat\n",
    "import sklearn.model_selection \n",
    "from sklearn.model_selection import train_test_split\n",
    "from sklearn.tree import DecisionTreeRegressor\n",
    "import seaborn as sns\n",
    "import warnings\n",
    "header_row = 0"
   ]
  },
  {
   "attachments": {},
   "cell_type": "markdown",
   "id": "88513bc7",
   "metadata": {},
   "source": [
    "PROCESSING AND READING DATA"
   ]
  },
  {
   "attachments": {},
   "cell_type": "markdown",
   "id": "dfe13e90",
   "metadata": {},
   "source": [
    "The three offensive CSVs are from Pro Football Focus Offensive Stats and the three defensive CSVs are from Pro Football Focus defensive stats. The specific stats are \"Team Offense\", \"Passing Offense\" and \"Rushing Offense\" along with \"Team Defense\", \"Passing Defense\" and \"Rushing Defense\". I believe that this information most effeciently can tell us how good a team is offensively or defensively which furthermore will indicate how well they perform"
   ]
  },
  {
   "cell_type": "code",
   "execution_count": null,
   "id": "ac55e2d9-a463-47df-81ef-0715d6c89ed3",
   "metadata": {},
   "outputs": [],
   "source": [
    "offense_stats = pd.read_csv('offense_stats.csv')\n",
    "defense_stats = pd.read_csv('defense_stats.csv')\n",
    "passing_stats = pd.read_csv('passing_stats.csv')\n",
    "passdef_stats = pd.read_csv('passdef_stats.csv')\n",
    "rushing_stats = pd.read_csv('rushing_stats.csv')\n",
    "rushdef_stats = pd.read_csv('rushdef_stats.csv')\n",
    "\n",
    "offense_stats.columns = offense_stats.iloc[header_row]\n",
    "offense_stats = offense_stats.drop(header_row)\n",
    "\n",
    "defense_stats.columns = defense_stats.iloc[header_row]\n",
    "defense_stats = defense_stats.drop(header_row)"
   ]
  },
  {
   "attachments": {},
   "cell_type": "markdown",
   "id": "8ad9eb39",
   "metadata": {},
   "source": [
    "TIDYING DATA"
   ]
  },
  {
   "attachments": {},
   "cell_type": "markdown",
   "id": "c0e07419",
   "metadata": {},
   "source": [
    "After collecting all the initial data, it is neccessary to remove certain information that does not apply for our model. We can do that and are left with the important stats to base our model off of."
   ]
  },
  {
   "cell_type": "code",
   "execution_count": null,
   "id": "d6248f1b",
   "metadata": {},
   "outputs": [],
   "source": [
    "offense_stats = pd.read_csv('offense_stats.csv') # Offensive Stats\n",
    "offense_stats.columns = offense_stats.iloc[header_row]\n",
    "offense_stats = offense_stats.drop(header_row)\n",
    "offense_stats = offense_stats.drop(columns=['Pen'])\n",
    "offense_stats = offense_stats.drop(columns=['TO%'])\n",
    "offense_stats = offense_stats.drop(columns=['Sc%'])\n",
    "offense_stats = offense_stats.drop(columns=['Rk'])\n",
    "offense_stats = offense_stats.drop(columns=['1stPy'])\n",
    "offense_stats = offense_stats.iloc[: , :-2]\n",
    "offense_stats = offense_stats.drop(columns=['1stD'])\n",
    "offense_stats = offense_stats.drop(columns=['FL'])\n",
    "offense_stats.columns = ['Team', 'Games','Total Points For','Total Yards', 'Total Plays', 'Total Yards/Play', 'Total Turnovers', 'Passing Completions', 'Passing Attempts', 'Passing Yards',\\\n",
    "    'Passing TD', 'Passing Int', 'Net Yards/Attempt', 'Rushing Attempts', 'Total Rushing Yards', 'Rushing TDs', 'Yards/Attempt']\n",
    "offense_stats = offense_stats.drop([33, 34,35])\n",
    "offense_stats = offense_stats.sort_values(by=['Team']).reset_index(drop=True)\n",
    "offense_stats.head()"
   ]
  },
  {
   "attachments": {},
   "cell_type": "markdown",
   "id": "fa8f7d53-eeab-4c37-ba50-89a9aca2e6d2",
   "metadata": {},
   "source": [
    "I removed certain stats in order to prevent deviation in the model. Specifically, I removed penalties, rank, first downs, first down percentage, and fumbles lost. Furthermore, stats like turnover percentage and sack percentage were best fit by getting numbers from the opposing defense. The stats we focused on were: 'Team', 'Games', 'Total Points For', 'Total Yards', 'Total Plays', 'Total Yards/Play', 'Total Turnovers', 'Passing Completions', 'Passing Attempts', 'Passing Yards', 'Passing TD', 'Passing Int', 'Net Yards/Attempt', 'Rushing Attempts', 'Total Rushing Yards', 'Rushing TDs', 'Yards/Attempt'."
   ]
  },
  {
   "cell_type": "code",
   "execution_count": null,
   "id": "8f850bf4",
   "metadata": {},
   "outputs": [],
   "source": [
    "passing_stats = pd.read_csv('passing_stats.csv') # Passing Stats\n",
    "passing_stats = passing_stats.drop(columns=['4QC'])\n",
    "passing_stats = passing_stats.drop(columns=['GWD'])\n",
    "passing_stats = passing_stats.drop(columns=['Sk%'])\n",
    "passing_stats = passing_stats.drop(columns=['Rk'])\n",
    "passing_stats = passing_stats.drop(columns=['EXP'])\n",
    "passing_stats = passing_stats.drop(columns=['Yds.1'])\n",
    "passing_stats = passing_stats.drop(columns=['Int%'])\n",
    "passing_stats = passing_stats.drop(columns=['TD%'])\n",
    "passing_stats = passing_stats.drop(columns=['Rate'])\n",
    "passing_stats = passing_stats.drop(columns=['Sk'])\n",
    "passing_stats = passing_stats.drop(columns=['Lng'])\n",
    "passing_stats = passing_stats.rename(columns={\"Tm\": \"Team\", \"G\": \"Games\", \"Ply\": \"Total Ply\", \"Y/P\":\"Total Y/P\", 'Cmp':'Completions', 'Cmp%':'Completion %'})\n",
    "passing_stats.rename(columns={passing_stats.columns[5]: \"Total Yards\" }, inplace = True)\n",
    "passing_stats = passing_stats.drop([32, 33,34])\n",
    "passing_stats = passing_stats.sort_values(by=['Team']).reset_index(drop=True)\n",
    "passing_stats.head()"
   ]
  },
  {
   "attachments": {},
   "cell_type": "markdown",
   "id": "fb3afe25",
   "metadata": {},
   "source": [
    "Similar to passing stats, it is required we tidy up the rushing data. Stats such as longest run and experience have no bearing on how well a team will perform."
   ]
  },
  {
   "cell_type": "code",
   "execution_count": null,
   "id": "a642fd8e",
   "metadata": {},
   "outputs": [],
   "source": [
    "rushing_stats = pd.read_csv('rushing_stats.csv') \n",
    "rushing_stats = rushing_stats.drop(columns=['Rk'])\n",
    "rushing_stats = rushing_stats.drop(columns=['EXP'])\n",
    "rushing_stats = rushing_stats.drop(columns=['Lng'])\n",
    "rushing_stats = rushing_stats.rename(columns={\"Tm\": \"Team\", \"G\": \"Games\"})\n",
    "rushing_stats.rename(columns={rushing_stats.columns[3]: \"Total Yards\" }, inplace = True)\n",
    "rushing_stats = rushing_stats.drop([32,33,34])\n",
    "rushing_stats = rushing_stats.sort_values(by=['Team']).reset_index(drop=True)\n",
    "rushing_stats.head()"
   ]
  },
  {
   "attachments": {},
   "cell_type": "markdown",
   "id": "9dbd7c26",
   "metadata": {},
   "source": [
    "It is also neccesary that we tidy up defensive data. There are a plethora of defensive stats from the CSV and a vast majority of them are not needed for our model."
   ]
  },
  {
   "cell_type": "code",
   "execution_count": null,
   "id": "5a98a806",
   "metadata": {},
   "outputs": [],
   "source": [
    "defense_stats = pd.read_csv('defense_stats.csv', index_col=False) # Defensive Stats\n",
    "defense_stats.columns = defense_stats.iloc[header_row]\n",
    "defense_stats = defense_stats.drop(header_row)\n",
    "defense_stats = defense_stats.drop(columns= [\"FL\"])\n",
    "defense_stats = defense_stats.drop(columns= [\"1stD\"])\n",
    "defense_stats = defense_stats.drop(columns= [\"TO%\"])\n",
    "defense_stats = defense_stats.drop(columns= [\"Sc%\"])\n",
    "defense_stats = defense_stats.drop(columns= [\"EXP\"])\n",
    "defense_stats = defense_stats.drop(columns= [\"Pen\"])\n",
    "defense_stats = defense_stats.drop(columns= [\"1stPy\"])\n",
    "defense_stats = defense_stats.drop(columns= [\"Int\"])\n",
    "defense_stats = defense_stats.drop(columns= [\"TD\"])\n",
    "defense_stats = defense_stats.drop(columns= [\"Cmp\"])\n",
    "defense_stats = defense_stats.drop(columns= [\"Att\"])\n",
    "# defense_stats = defense_stats.drop(columns= defense_stats.columns[[16]], axis=1)\n",
    "defense_stats = defense_stats.iloc[:,~defense_stats.columns.duplicated()]\n",
    "defense_stats = defense_stats.rename(columns={\"Tm\": \"Team\", \"G\": \"Games\", \"Yds\": \"Total Yards Allowed\", \"Ply\": \"Total Ply\", \"NY/P\":\"Net Yards per Pass Allowed\", \"Y/A\":\"Rushing Yards Allowed\"\\\n",
    "    , \"TO\":\"Total TOs\", \"PA\":\"Points Allowed\"})\n",
    "defense_stats = defense_stats.drop([33, 34,35])\n",
    "defense_stats = defense_stats.sort_values(by=['Team']).reset_index(drop=True)\n",
    "defense_stats.head()"
   ]
  },
  {
   "attachments": {},
   "cell_type": "markdown",
   "id": "51f7b066",
   "metadata": {},
   "source": [
    "Continuing with the tidying up of data we must individually move to pass defense data."
   ]
  },
  {
   "cell_type": "code",
   "execution_count": null,
   "id": "df24c960",
   "metadata": {},
   "outputs": [],
   "source": [
    "passdef_stats = pd.read_csv('passdef_stats.csv') # Passing Defense Stats\n",
    "passdef_stats = passdef_stats.drop(columns= [\"Rk\"])\n",
    "passdef_stats = passdef_stats.drop(columns= [\"QBHits\"])\n",
    "passdef_stats = passdef_stats.drop(columns= [\"PD\"])\n",
    "passdef_stats = passdef_stats.drop(columns= [\"Rate\"])\n",
    "passdef_stats = passdef_stats.drop(columns= [\"Sk\"])\n",
    "passdef_stats = passdef_stats.drop(columns= [\"Yds.1\"]) \n",
    "passdef_stats = passdef_stats.drop(columns= [\"TFL\"])\n",
    "passdef_stats = passdef_stats.drop(columns= [\"Sk%\"])\n",
    "passdef_stats = passdef_stats.drop(columns= [\"EXP\"])\n",
    "passdef_stats = passdef_stats.drop([32,33, 34])\n",
    "passdef_stats = passdef_stats.sort_values(by=['Tm']).reset_index(drop=True)\n",
    "passdef_stats.head()"
   ]
  },
  {
   "attachments": {},
   "cell_type": "markdown",
   "id": "c9d74256",
   "metadata": {},
   "source": [
    "Finally, we must tidy our rushing defense data and remove unneccesary data points from this CSV as well."
   ]
  },
  {
   "cell_type": "code",
   "execution_count": null,
   "id": "85f8cb08",
   "metadata": {},
   "outputs": [],
   "source": [
    "rushdef_stats = pd.read_csv('rushdef_stats.csv') \n",
    "rushdef_stats = rushdef_stats.drop(columns= [\"EXP\"])\n",
    "rushdef_stats = rushdef_stats.drop(columns= [\"Rk\"])\n",
    "rushdef_stats = rushdef_stats.drop([32,33, 34])\n",
    "rushdef_stats = rushdef_stats.sort_values(by=['Tm']).reset_index(drop=True)\n",
    "rushdef_stats.head()"
   ]
  },
  {
   "attachments": {},
   "cell_type": "markdown",
   "id": "d8609c00",
   "metadata": {},
   "source": [
    "DATA ANALYSIS"
   ]
  },
  {
   "attachments": {},
   "cell_type": "markdown",
   "id": "97b77a8b",
   "metadata": {},
   "source": [
    "POINTS ALLOWED PER GAME VS POINTS SCORED PER GAME"
   ]
  },
  {
   "cell_type": "code",
   "execution_count": null,
   "id": "4e85da7c",
   "metadata": {},
   "outputs": [],
   "source": [
    "offense_stats['Points Per Game'] = offense_stats['Total Points For'].astype(float) / offense_stats['Games'].astype(float)\n",
    "ppg = offense_stats['Points Per Game']\n",
    "defense_stats['Points Allowed Per Game'] = defense_stats['Points Allowed'].astype(float) / defense_stats['Games'].astype(float)\n",
    "papg = defense_stats['Points Allowed Per Game']\n",
    "\n",
    "plt.scatter(offense_stats['Points Per Game'], defense_stats['Points Allowed Per Game'])\n",
    "plt.xlabel(\"Points Per Game\")\n",
    "plt.ylabel(\"Points Allowed Per Game\")\n",
    "m, b = np.polyfit(offense_stats['Points Per Game'].head(32), defense_stats['Points Allowed Per Game'], 1)\n",
    "plt.plot(offense_stats['Points Per Game'], m*offense_stats['Points Per Game'] + b)\n",
    "for i, row in offense_stats.iterrows():\n",
    "    plt.annotate(row.Team, (ppg[i], papg[i]))"
   ]
  },
  {
   "attachments": {},
   "cell_type": "markdown",
   "id": "d4f651c2",
   "metadata": {},
   "source": [
    "Our first visual breaks down how teams are performin in terms of scoring points vs allowing them. Teams in the bottom right of the chart are generally best as they are scoring the most points and allowing the least. Meanwhile, teams in the top left are generally the worst teams in the NFL as they allow opposing teams to score plenty of points while struggling to do so themselves."
   ]
  },
  {
   "attachments": {},
   "cell_type": "markdown",
   "id": "eeb4a9b1",
   "metadata": {},
   "source": [
    "DEFENSIVE VS OFFENSIVE PASSING EFFICIENCY"
   ]
  },
  {
   "cell_type": "code",
   "execution_count": null,
   "id": "1477e4c4",
   "metadata": {},
   "outputs": [],
   "source": [
    "passing_stats['Passing Efficiency'] = ((passing_stats[\"Completion %\"].astype(float) * (passing_stats[\"Total Yards\"].astype(float)/passing_stats[\"Att\"].astype(float))) + \\\n",
    "    (passing_stats[\"Completion %\"].astype(float) * (passing_stats[\"TD\"].astype(float)/passing_stats[\"Att\"].astype(float))*100*6) - \\\n",
    "    (passing_stats[\"Completion %\"].astype(float) * (passing_stats[\"Int\"].astype(float)/passing_stats[\"Att\"].astype(float))*100*3)) / 100\n",
    "passdef_stats['Defensive Passing Efficiency'] = (passdef_stats[\"Int%\"].astype(float))*3 - \\\n",
    "    (passdef_stats[\"TD%\"].astype(float)/passing_stats[\"Att\"].astype(float)*100)*(6) - \\\n",
    "    (passdef_stats[\"Y/C\"].astype(float)/passing_stats[\"Att\"].astype(float)*100*3)\n",
    "\n",
    "plt.scatter(passing_stats['Passing Efficiency'], passdef_stats['Defensive Passing Efficiency'])\n",
    "plt.xlabel(\"Passing Efficiency\")\n",
    "plt.ylabel(\"Defensive Passing Efficiency\")\n",
    "\n",
    "m, b = np.polyfit(passing_stats['Passing Efficiency'].head(32), passdef_stats['Defensive Passing Efficiency'], 1)\n",
    "plt.plot(passing_stats['Passing Efficiency'], m*passing_stats['Passing Efficiency'] + b)\n",
    "for i, row in passing_stats.iterrows():\n",
    "    plt.annotate(row.Team, (passing_stats['Passing Efficiency'][i], passdef_stats['Defensive Passing Efficiency'][i]))"
   ]
  },
  {
   "attachments": {},
   "cell_type": "markdown",
   "id": "d7be90c0",
   "metadata": {},
   "source": [
    "The second visual breaks down how individually efficient each team's passing game is. Having a high Passing Efficiency tells us a team displays that a team is generally successful when passing the ball. Similarly, Defensiving Passing Efficiency displays a team's ability to stop opposing team's passing offense. Team's with a high passing defense efficiency are able to limit their opponents passing game success."
   ]
  },
  {
   "attachments": {},
   "cell_type": "markdown",
   "id": "6dc93c8b",
   "metadata": {},
   "source": [
    "DEFENSIVE VS OFFENSIVE RUSHING EFFICIENCY"
   ]
  },
  {
   "cell_type": "code",
   "execution_count": null,
   "id": "3743b9b4",
   "metadata": {},
   "outputs": [],
   "source": [
    "rushing_stats['Rushing Efficiency'] = (rushing_stats[\"Y/A\"].astype(float))\\\n",
    "     + (rushing_stats[\"TD\"].astype(float) /rushing_stats[\"Att\"].astype(float)) * 100*6\\\n",
    "     - (rushing_stats[\"Fmb\"].astype(float) /rushing_stats[\"Att\"].astype(float)) * 100*3\n",
    "rushdef_stats['Defensive Rushing Efficiency'] = (rushdef_stats[\"Y/A\"].astype(float)) - ((rushdef_stats[\"TD\"].astype(float) /rushdef_stats[\"Att\"].astype(float)) * 100)*6\n",
    "plt.scatter(rushing_stats['Rushing Efficiency'], rushdef_stats['Defensive Rushing Efficiency'])\n",
    "plt.xlabel(\"Rushing Efficiency\")\n",
    "plt.ylabel(\"Defensive Rushing Efficiency\")\n",
    "\n",
    "m, b = np.polyfit(rushing_stats['Rushing Efficiency'].head(32), rushdef_stats['Defensive Rushing Efficiency'], 1)\n",
    "plt.plot(rushing_stats['Rushing Efficiency'], m*rushing_stats['Rushing Efficiency'] + b)\n",
    "for i, row in rushing_stats.iterrows():\n",
    "    plt.annotate(row.Team, (rushing_stats['Rushing Efficiency'][i], rushdef_stats['Defensive Rushing Efficiency'][i]))"
   ]
  },
  {
   "attachments": {},
   "cell_type": "markdown",
   "id": "020c5ce6",
   "metadata": {},
   "source": [
    "This visual operates very similarly to the last one except it is focused on rushing efficiency. It compares every team to the mean in both offensive and defensive rushing efficiency and displays it through a chart."
   ]
  },
  {
   "attachments": {},
   "cell_type": "markdown",
   "id": "01700caa",
   "metadata": {},
   "source": [
    "TYPE OF PLAYS RUN"
   ]
  },
  {
   "cell_type": "code",
   "execution_count": null,
   "id": "a67f60e7",
   "metadata": {},
   "outputs": [],
   "source": [
    "# Run vs Pass\n",
    "offense_stats['Total Plays(Only Run and Pass'] = offense_stats['Passing Attempts'].astype(float) + offense_stats['Rushing Attempts'].astype(float)\n",
    "offense_stats['Pass Percent'] = offense_stats['Passing Attempts'].astype(float)/offense_stats['Total Plays(Only Run and Pass'].astype(float)\n",
    "offense_stats['Run Percent'] = offense_stats['Rushing Attempts'].astype(float)/offense_stats['Total Plays(Only Run and Pass'].astype(float)\n",
    "\n",
    "plt.scatter(offense_stats['Pass Percent'], offense_stats['Run Percent'])\n",
    "plt.xlabel(\"Pass Percent\")\n",
    "plt.ylabel(\"Run Percent\")\n",
    "m, b = np.polyfit(offense_stats['Pass Percent'].head(32), offense_stats['Run Percent'], 1)\n",
    "plt.plot(offense_stats['Pass Percent'], m*offense_stats['Pass Percent'] + b)\n",
    "for i, row in offense_stats.iterrows():\n",
    "    plt.annotate(row.Team, (offense_stats['Pass Percent'][i], offense_stats['Run Percent'][i]))"
   ]
  },
  {
   "attachments": {},
   "cell_type": "markdown",
   "id": "2d45e018",
   "metadata": {},
   "source": [
    "This visual serves as more of a determinant of what type of plays teams are running. It breaks down the frequency at which teams pass or run and puts it on a chart. It may be surprising to some that the visual displayed is a line, but every play must be a pass or run which shows that teams that pass more must run less and teams that run more must also pass less."
   ]
  },
  {
   "attachments": {},
   "cell_type": "markdown",
   "id": "bbb6b257",
   "metadata": {},
   "source": [
    "MODEL PREDICTIONS"
   ]
  },
  {
   "attachments": {},
   "cell_type": "markdown",
   "id": "d8408f26",
   "metadata": {},
   "source": [
    "TEAM PLAY STYLE"
   ]
  },
  {
   "cell_type": "code",
   "execution_count": null,
   "id": "a6ab0ce9",
   "metadata": {},
   "outputs": [],
   "source": [
    "df = pd.DataFrame(offense_stats['Team'])\n",
    "df['RushPercent'] = offense_stats['Run Percent']\n",
    "df['RushEfficiency'] = rushing_stats['Rushing Efficiency']\n",
    "df['PassPercent'] = offense_stats['Pass Percent']\n",
    "df['PassEfficiency'] = passing_stats['Passing Efficiency']\n",
    "df['DRushEfficiency'] = rushdef_stats['Defensive Rushing Efficiency']\n",
    "df['DPassEfficiency'] = passdef_stats['Defensive Passing Efficiency']\n",
    "df['DefenseRank'] = defense_stats['Rk']\n",
    "df['OffensiveTO%'] = offense_stats['Total Turnovers'].astype(float)/offense_stats['Total Plays'].astype(float)\n",
    "df['DefensiveTO%'] = defense_stats['Total TOs'].astype(float)/defense_stats['Total Ply'].astype(float)\n",
    "df.insert(10, \"Value\", 1)\n",
    "df.head()"
   ]
  },
  {
   "attachments": {},
   "cell_type": "markdown",
   "id": "9b4b6af1",
   "metadata": {},
   "source": [
    "This dataframe displays information about how often teams run and pass along with their efficiency agaisnt both of them. It will serve as an important element of our model's ability to create predictions."
   ]
  },
  {
   "attachments": {},
   "cell_type": "markdown",
   "id": "1328e1ce",
   "metadata": {},
   "source": [
    "MODEL FORMULA"
   ]
  },
  {
   "attachments": {},
   "cell_type": "markdown",
   "id": "ebaa5093",
   "metadata": {},
   "source": [
    "The most important part of the model is creating an effective formula to project the results of each game. By using efficiency numbers along with projecting the likelihood of a turnover we can make an effective formula.\n",
    "\n",
    "The formula I created was:\n",
    "(Pass Percent * Pass Efficiency)) - (Pass Percent * PassDef Efficiency) + ((Rush Percent * Rush Efficiency) - ((Rush Percent * RushDef Efficiency) - (rank * (Offensive Turnover% - Defensive Turnover%) + 1.0)\n",
    "\n",
    "The formula uses both rushing and passing efficiency and rate on both the offensive and defensive side. By adding turnover probability to the formula, I believe we can create some form of predictions for NFL games"
   ]
  },
  {
   "cell_type": "code",
   "execution_count": null,
   "id": "e7764215",
   "metadata": {},
   "outputs": [],
   "source": [
    "df['Value'] = ((df['RushPercent'] * df['RushEfficiency']) + (df['PassPercent'] * df['PassEfficiency'])) - ((df['RushPercent'] * df['DRushEfficiency']) - (df['PassPercent'] * df['DPassEfficiency'])) - (df['DefenseRank'].astype(float) * (df['OffensiveTO%'] - df['DefensiveTO%']) + 1.0)\n",
    "df"
   ]
  },
  {
   "attachments": {},
   "cell_type": "markdown",
   "id": "66050f6a",
   "metadata": {},
   "source": [
    "WIN PROBABILITY"
   ]
  },
  {
   "cell_type": "code",
   "execution_count": null,
   "id": "8e018e9e",
   "metadata": {},
   "outputs": [],
   "source": [
    "new_df = pd.DataFrame()\n",
    "i = 0\n",
    "for index in range(len(df.Team.unique())):\n",
    "    arr = []\n",
    "    for index2 in range(len(df.Team.unique())):\n",
    "        total = df[\"Value\"][index]+df[\"Value\"][index2]\n",
    "        arr.append(df[\"Value\"][index]/total)\n",
    "    new_df = new_df.append(pd.DataFrame([arr]))\n",
    "new_df.columns = df.Team.unique()\n",
    "new_df.index = df.Team.unique()\n",
    "new_df"
   ]
  },
  {
   "attachments": {},
   "cell_type": "markdown",
   "id": "b734675b",
   "metadata": {},
   "source": [
    "This data represents each team's chances of beating one another. With this data we can make a chart which plots the information and displays which teams are the most likely to win or lose"
   ]
  },
  {
   "cell_type": "code",
   "execution_count": null,
   "id": "4a9ff302",
   "metadata": {},
   "outputs": [],
   "source": [
    "from matplotlib.pyplot import figure\n",
    "figure(figsize=(32, 16), dpi=80)\n",
    "for i in range(len(df.Team.unique())):\n",
    "    plt.plot(df.Team.unique(), new_df.iloc[i], label = df.Team[i])\n",
    "plt.title('Winning Percentage Against Team')\n",
    "plt.xlabel('Team')\n",
    "plt.ylabel('Winning Percent')\n",
    "plt.legend()"
   ]
  },
  {
   "attachments": {},
   "cell_type": "markdown",
   "id": "1b51f851",
   "metadata": {},
   "source": [
    "LEAST SQUARES REGRESSION"
   ]
  },
  {
   "attachments": {},
   "cell_type": "markdown",
   "id": "65302bf4",
   "metadata": {},
   "source": [
    "GETTING TRAINING DATA"
   ]
  },
  {
   "attachments": {},
   "cell_type": "markdown",
   "id": "c36676a8",
   "metadata": {},
   "source": [
    "To perform our least squares regression, the first thing we must do is split up training and test data. 75 percent of our data will serve as training while the other 25 percent will serve as test data."
   ]
  },
  {
   "cell_type": "code",
   "execution_count": null,
   "id": "94863cd7",
   "metadata": {},
   "outputs": [],
   "source": [
    "X = df.drop(columns=['Value', 'Team'], axis=1)\n",
    "Y = df['Value']\n",
    "X_train, X_test, Y_train, Y_test = train_test_split(X, Y, test_size=.25, random_state=0)\n",
    "X_train['Value'] = Y_train"
   ]
  },
  {
   "attachments": {},
   "cell_type": "markdown",
   "id": "90604e3b",
   "metadata": {},
   "source": [
    "REGRESSION"
   ]
  },
  {
   "attachments": {},
   "cell_type": "markdown",
   "id": "66e28dac",
   "metadata": {},
   "source": [
    "Using our previously created formula and passing it into an OLS function we can create a Least Squares Regression Model with our training data."
   ]
  },
  {
   "cell_type": "code",
   "execution_count": null,
   "id": "eeb64e81",
   "metadata": {},
   "outputs": [],
   "source": [
    "from statsmodels.formula.api import ols\n",
    "formula_str = \"Value ~ ((RushPercent * RushEfficiency) + (PassPercent * PassEfficiency)) - ((RushPercent * DRushEfficiency) - (PassPercent * DPassEfficiency)) - (DefenseRank * (OffensiveTO% - DefensiveTO%))\"\n",
    "mod = ols(formula=formula_str, data=X_train).fit()\n",
    "warnings.filterwarnings('ignore')\n",
    "mod.summary()"
   ]
  },
  {
   "attachments": {},
   "cell_type": "markdown",
   "id": "f1f26165",
   "metadata": {},
   "source": [
    "The R^2 value indicates how much of the variation in the value can be explained by variation in the columns (Rush Efficiency, Rush Percent, etc.). If we predict our test values, how would they come out?"
   ]
  },
  {
   "attachments": {},
   "cell_type": "markdown",
   "id": "b9b9a449",
   "metadata": {},
   "source": [
    "CONCLUSION"
   ]
  },
  {
   "attachments": {},
   "cell_type": "markdown",
   "id": "84f5b609",
   "metadata": {},
   "source": [
    "The model that I created is based on the general information on how effeciently teams operate on offense and defense along with the type of plays they call and their turnover rates. On an actual football field there are much more factors at play. Injuries and matchups are a huge factor in picking games and mean a lot more then simply ranking teams based on these efficiency numbers.\n",
    "\n",
    "With my current knowledge of computer science this model did an effective job of creating a basic representation of football games to an NFL fan. On a large scale of being consistently accurate to a bettor however it does not do an excellent job.\n",
    "\n",
    "To create a more effecient model and improve on this it is neccesary to understand all of the various little factors at play in the NFL. Furthermore, each factor also carries a different weight and I would need to look through historical and current data to determine how much each factor matters.\n",
    "\n",
    "Football is also a week to week game where anyone can always upset any other team. No model will ever be perfectly accurate but in a game where one play can be all the difference there is an even greater amount of variance. Regardless, after this class is over I will attempt to make this model more advanced and be the individual who takes down gambling empires in finding a way to beat the odds."
   ]
  }
 ],
 "metadata": {
  "kernelspec": {
   "display_name": "Python 3",
   "language": "python",
   "name": "python3"
  },
  "language_info": {
   "codemirror_mode": {
    "name": "ipython",
    "version": 3
   },
   "file_extension": ".py",
   "mimetype": "text/x-python",
   "name": "python",
   "nbconvert_exporter": "python",
   "pygments_lexer": "ipython3",
   "version": "3.8.10 (default, Sep 28 2021, 16:10:42) \n[GCC 9.3.0]"
  },
  "vscode": {
   "interpreter": {
    "hash": "31f2aee4e71d21fbe5cf8b01ff0e069b9275f58929596ceb00d14d90e3e16cd6"
   }
  }
 },
 "nbformat": 4,
 "nbformat_minor": 5
}
